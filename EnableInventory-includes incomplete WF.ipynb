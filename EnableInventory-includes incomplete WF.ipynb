{
 "cells": [
  {
   "cell_type": "code",
   "execution_count": 269,
   "metadata": {},
   "outputs": [],
   "source": [
    "from time import sleep\n",
    "from selenium import webdriver\n",
    "from selenium.webdriver.common.keys import Keys\n",
    "driver = webdriver.Chrome()\n",
    "\n",
    "from collections import OrderedDict\n"
   ]
  },
  {
   "cell_type": "code",
   "execution_count": 306,
   "metadata": {},
   "outputs": [],
   "source": [
    "from arrow import now\n",
    "def date():return now('America/New_York').format('YYYY-MM-DD')\n",
    "def time():return now('America/New_York').format('HH:mm')"
   ]
  },
  {
   "cell_type": "code",
   "execution_count": null,
   "metadata": {},
   "outputs": [],
   "source": []
  },
  {
   "cell_type": "code",
   "execution_count": 307,
   "metadata": {},
   "outputs": [],
   "source": []
  },
  {
   "cell_type": "code",
   "execution_count": 308,
   "metadata": {},
   "outputs": [
    {
     "data": {
      "text/plain": [
       "OrderedDict([('href',\n",
       "              'https://www.youtube.com/channel/UCKdiWmb6xNpK4d7MANT3Ghw/about'),\n",
       "             ('views', 169330),\n",
       "             ('date', '2019-11-12'),\n",
       "             ('time', '12:38')])"
      ]
     },
     "execution_count": 308,
     "metadata": {},
     "output_type": "execute_result"
    }
   ],
   "source": [
    "youtube()"
   ]
  },
  {
   "cell_type": "code",
   "execution_count": 264,
   "metadata": {},
   "outputs": [
    {
     "data": {
      "text/plain": [
       "169311"
      ]
     },
     "execution_count": 264,
     "metadata": {},
     "output_type": "execute_result"
    }
   ],
   "source": [
    "int(views.replace(',',''))"
   ]
  },
  {
   "cell_type": "code",
   "execution_count": 247,
   "metadata": {},
   "outputs": [
    {
     "data": {
      "text/plain": [
       "'1.17K'"
      ]
     },
     "execution_count": 247,
     "metadata": {},
     "output_type": "execute_result"
    }
   ],
   "source": [
    "views"
   ]
  },
  {
   "cell_type": "markdown",
   "metadata": {},
   "source": [
    "## Incomplete wikifactory interrogation.  \n",
    "not clear I need it"
   ]
  },
  {
   "cell_type": "code",
   "execution_count": null,
   "metadata": {},
   "outputs": [],
   "source": [
    "def wflogin(howSlow=2):\n",
    "    sleep(howSlow)\n",
    "    driver.get('https://wikifactory.com/sign-in?next=%2F%2Be-NABLE')\n",
    "    sleep(howSlow)\n",
    "    username = driver.find_element_by_id('signInForm-usernameEmail')\n",
    "    username.send_keys('jschull@gmail.com')\n",
    "    sleep(howSlow)\n",
    "    password = driver.find_element_by_id('signInForm-password')\n",
    "    password.send_keys('?@=/{%;[\\n')\n",
    "    return driver\n"
   ]
  },
  {
   "cell_type": "code",
   "execution_count": 88,
   "metadata": {},
   "outputs": [],
   "source": [
    "driver = wflogin()\n"
   ]
  },
  {
   "cell_type": "code",
   "execution_count": 115,
   "metadata": {},
   "outputs": [],
   "source": [
    "def showMore():\n",
    "    buttons = [button for button in driver.find_elements_by_tag_name('button') if button.text=='Show more']\n",
    "    if buttons:\n",
    "        buttons[0].click()\n",
    "        return True\n",
    "    else:\n",
    "        return False"
   ]
  },
  {
   "cell_type": "code",
   "execution_count": 145,
   "metadata": {},
   "outputs": [
    {
     "name": "stdout",
     "output_type": "stream",
     "text": [
      "clicked\n"
     ]
    }
   ],
   "source": [
    "def projectStrings(howSlow=2):\n",
    "    driver.get('https://wikifactory.com/+e-NABLE/projects')\n",
    "    sleep(howSlow)\n",
    "    while showMore(): print('clicked Show More')\n",
    "    section=driver.find_element_by_tag_name('section')\n",
    "    sleep(howSlow)\n",
    "    projectDivs = section.find_elements_by_xpath('./child::*')[1:]\n",
    "    sleep(howSlow)\n",
    "    return [div.text for div in projectDivs]\n",
    "projectStrings();"
   ]
  },
  {
   "cell_type": "code",
   "execution_count": 150,
   "metadata": {},
   "outputs": [
    {
     "name": "stdout",
     "output_type": "stream",
     "text": [
      "clicked Show More\n",
      "clicked Show More\n",
      "clicked Show More\n"
     ]
    },
    {
     "data": {
      "text/plain": [
       "<selenium.webdriver.remote.webelement.WebElement (session=\"5e85cd6f05f7124a953df1c1771be7e3\", element=\"0.7831063399734559-8\")>"
      ]
     },
     "execution_count": 150,
     "metadata": {},
     "output_type": "execute_result"
    }
   ],
   "source": [
    "#stories\n",
    "driver.get('https://wikifactory.com/+e-NABLE/stories')\n",
    "sleep(2)\n",
    "while showMore(): \n",
    "    print('clicked Show More')\n",
    "    sleep(2)\n",
    "section=driver.find_element_by_tag_name('section')\n",
    "section"
   ]
  },
  {
   "cell_type": "markdown",
   "metadata": {},
   "source": [
    "## end wikifactory"
   ]
  },
  {
   "cell_type": "markdown",
   "metadata": {},
   "source": [
    "## Facebook"
   ]
  },
  {
   "cell_type": "code",
   "execution_count": 219,
   "metadata": {},
   "outputs": [
    {
     "name": "stdout",
     "output_type": "stream",
     "text": [
      "click Allow\n"
     ]
    }
   ],
   "source": [
    "def fblogin(howSlow=2):\n",
    "    sleep(howSlow)\n",
    "    driver.get('https://facebook.com')\n",
    "    driver.find_element_by_class_name('inputtext').send_keys('jschull@gmail.com')\n",
    "    driver.find_elements_by_class_name('inputtext')[1].send_keys('Sr6B2QgW\\n')  \n",
    "    print('click Allow')\n",
    "    return driver\n",
    "    \n",
    "driver = fblogin()\n"
   ]
  },
  {
   "cell_type": "code",
   "execution_count": 220,
   "metadata": {},
   "outputs": [],
   "source": [
    "def getGroupInfo(URL,howSlow=2):\n",
    "    driver.get(URL)\n",
    "    rightCol = driver.find_element_by_id('rightCol')\n",
    "    lines = rightCol.text.split('\\n')\n",
    "    members = [line for line in lines if line.endswith('Members')][0]\n",
    "    print(URL.strip('/').split('/')[-1],members)"
   ]
  },
  {
   "cell_type": "code",
   "execution_count": 221,
   "metadata": {},
   "outputs": [
    {
     "data": {
      "text/plain": [
       "['https://www.facebook.com/groups/enabledfamilies/',\n",
       " 'https://www.facebook.com/groups/enablebadgekeepers/',\n",
       " 'https://www.facebook.com/groups/enablecollaborators/',\n",
       " 'https://www.facebook.com/groups/enablechapterleaders/',\n",
       " 'https://www.facebook.com/groups/enablefrance/',\n",
       " 'https://www.facebook.com/groups/enablecommunitybulletinboard/',\n",
       " 'https://www.facebook.com/groups/enableeducatorsalliance/',\n",
       " 'https://www.facebook.com/groups/enabledfamilies/']"
      ]
     },
     "execution_count": 221,
     "metadata": {},
     "output_type": "execute_result"
    }
   ],
   "source": [
    "facebookGroups=\"\"\"\n",
    "https://www.facebook.com/groups/enabledfamilies/\n",
    "https://www.facebook.com/groups/enablebadgekeepers/\n",
    "https://www.facebook.com/groups/enablecollaborators/\n",
    "https://www.facebook.com/groups/enablechapterleaders/\n",
    "https://www.facebook.com/groups/enablefrance/\n",
    "https://www.facebook.com/groups/enablecommunitybulletinboard/\n",
    "https://www.facebook.com/groups/enableeducatorsalliance/\n",
    "https://www.facebook.com/groups/enabledfamilies/\n",
    "\"\"\".strip().split('\\n')\n",
    "facebookGroups"
   ]
  },
  {
   "cell_type": "code",
   "execution_count": 225,
   "metadata": {},
   "outputs": [
    {
     "name": "stdout",
     "output_type": "stream",
     "text": [
      "enabledfamilies 104 Members\n",
      "enablebadgekeepers 158 Members\n",
      "enablecollaborators 1,288 Members\n",
      "enablechapterleaders 169 Members\n",
      "enablefrance 455 Members\n",
      "enablecommunitybulletinboard 455 Members\n",
      "enableeducatorsalliance 164 Members\n",
      "enabledfamilies 104 Members\n"
     ]
    }
   ],
   "source": [
    "for group in facebookGroups:\n",
    "    getGroupInfo(group)"
   ]
  },
  {
   "cell_type": "code",
   "execution_count": 222,
   "metadata": {},
   "outputs": [],
   "source": [
    "facebookCommunities=\"\"\"\n",
    "https://www.facebook.com/enablingthefuture/\n",
    "\"\"\""
   ]
  },
  {
   "cell_type": "code",
   "execution_count": 223,
   "metadata": {},
   "outputs": [],
   "source": [
    "def getFBCommunityInfo(URL):\n",
    "    driver.get(URL)\n",
    "    sideCol = driver.find_element_by_id('pages_side_column')\n",
    "    lines=sideCol.text.split('\\n')\n",
    "    likethis = [line for line in lines if line.endswith('like this')][0]\n",
    "    followthis = [line for line in lines if line.endswith('follow this')][0]\n",
    "    print(likethis, followthis)\n",
    "    return(likethis, followthis)"
   ]
  },
  {
   "cell_type": "code",
   "execution_count": 224,
   "metadata": {},
   "outputs": [
    {
     "name": "stdout",
     "output_type": "stream",
     "text": [
      "24,959 people like this 25,212 people follow this\n"
     ]
    },
    {
     "data": {
      "text/plain": [
       "('24,959 people like this', '25,212 people follow this')"
      ]
     },
     "execution_count": 224,
     "metadata": {},
     "output_type": "execute_result"
    }
   ],
   "source": [
    "getFBCommunityInfo('https://www.facebook.com/enablingthefuture')"
   ]
  },
  {
   "cell_type": "markdown",
   "metadata": {},
   "source": [
    "## hub.e-nable.org"
   ]
  },
  {
   "cell_type": "code",
   "execution_count": 81,
   "metadata": {},
   "outputs": [],
   "source": [
    "def loginToHumhub():\n",
    "    humhub=webdriver.Chrome()\n",
    "    humhub.get('https://hub.e-nable.org/user/auth/login')\n",
    "    elem = humhub.find_element_by_id('login_username')\n",
    "    elem.send_keys('jschull@e-nable.org')\n",
    "    elem = humhub.find_element_by_id('login_password')\n",
    "    elem.send_keys('JcE98vA5\\n')\n",
    "    return humhub\n",
    "    \n",
    "humhub = loginToHumhub()"
   ]
  },
  {
   "cell_type": "code",
   "execution_count": 4,
   "metadata": {},
   "outputs": [],
   "source": [
    "def getGroups()\n",
    "    humhub.get('https://hub.e-nable.org/directory/directory/groups')\n",
    "    groups = [group.text for group in humhub.find_elements_by_tag_name('H1')]\n",
    "    return groups"
   ]
  },
  {
   "cell_type": "code",
   "execution_count": 99,
   "metadata": {},
   "outputs": [],
   "source": []
  },
  {
   "cell_type": "code",
   "execution_count": 113,
   "metadata": {},
   "outputs": [
    {
     "name": "stdout",
     "output_type": "stream",
     "text": [
      "1\n"
     ]
    }
   ],
   "source": [
    "def getGroups():\n",
    "    i=1\n",
    "    memberStrings=[]\n",
    "    while i>=0:\n",
    "        humhub.get(f'https://hub.e-nable.org/directory/members?page={i}&per-page=25&')\n",
    "        sleep(2)\n",
    "        i+=1\n",
    "        if 'Oooops' in humhub.find_element_by_class_name('panel-heading').text:\n",
    "            i=-1\n",
    "        else:\n",
    "            bodies = humhub.find_elements_by_class_name('media-body')\n",
    "            memberStrings.extend([body.text for body in bodies if body.text])\n",
    "        \n",
    "        return memberStrings\n",
    "    \n",
    "getGroups();"
   ]
  },
  {
   "cell_type": "code",
   "execution_count": 185,
   "metadata": {},
   "outputs": [
    {
     "data": {
      "text/plain": [
       "{'https://hub.e-nable.org/s/device-customization/': 'official',\n",
       " 'https://hub.e-nable.org/s/e-nable-chapter-leaders/': 'official',\n",
       " 'https://hub.e-nable.org/s/e-nable-devices/': 'official',\n",
       " 'https://hub.e-nable.org/s/e-nable-digital-badge-awards/': 'official',\n",
       " 'https://hub.e-nable.org/s/e-nable-educators-exchange/': 'official',\n",
       " 'https://hub.e-nable.org/s/e-nable-forum-archives/': 'official',\n",
       " 'https://hub.e-nable.org/s/e-nable-forum/': 'official',\n",
       " 'https://hub.e-nable.org/s/e-nable-fundraising/': 'official',\n",
       " 'https://hub.e-nable.org/s/e-nable-spc/': 'official',\n",
       " 'https://hub.e-nable.org/s/e-nable-volunteering-needs/': 'official',\n",
       " 'https://hub.e-nable.org/s/e-nable-web-central/': 'official',\n",
       " 'https://hub.e-nable.org/s/e-nablecon-2019/': 'official',\n",
       " 'https://hub.e-nable.org/s/electronics/': 'official'}"
      ]
     },
     "execution_count": 185,
     "metadata": {},
     "output_type": "execute_result"
    }
   ],
   "source": [
    "def getSpaces(kind='official', URL='https://hub.e-nable.org/enterprise/spacetype/directory/index?id=2'):\n",
    "    humhub.get(URL)\n",
    "    sleep(1)\n",
    "    bodies = humhub.find_elements_by_class_name('media-body')\n",
    "    hrefs =[body.find_element_by_tag_name('a').get_attribute('href')\n",
    "               for body in bodies if body.text]\n",
    "    kinds = [kind]*len(hrefs)\n",
    "    return dict(zip(hrefs,kinds))\n",
    "getSpaces()"
   ]
  },
  {
   "cell_type": "code",
   "execution_count": 186,
   "metadata": {},
   "outputs": [
    {
     "ename": "TypeError",
     "evalue": "unsupported operand type(s) for +: 'dict' and 'dict'",
     "output_type": "error",
     "traceback": [
      "\u001b[0;31m---------------------------------------------------------------------------\u001b[0m",
      "\u001b[0;31mTypeError\u001b[0m                                 Traceback (most recent call last)",
      "\u001b[0;32m<ipython-input-186-81dc27594b13>\u001b[0m in \u001b[0;36m<module>\u001b[0;34m()\u001b[0m\n\u001b[1;32m      3\u001b[0m \u001b[0mprojectSpaces\u001b[0m \u001b[0;34m=\u001b[0m \u001b[0mgetSpaces\u001b[0m\u001b[0;34m(\u001b[0m\u001b[0;34m'project'\u001b[0m\u001b[0;34m,\u001b[0m  \u001b[0;34m'https://hub.e-nable.org/enterprise/spacetype/directory/index?id=5'\u001b[0m\u001b[0;34m)\u001b[0m\u001b[0;34m\u001b[0m\u001b[0;34m\u001b[0m\u001b[0m\n\u001b[1;32m      4\u001b[0m \u001b[0mvolunteerSpaces\u001b[0m\u001b[0;34m=\u001b[0m\u001b[0mgetSpaces\u001b[0m\u001b[0;34m(\u001b[0m\u001b[0;34m'volunteer'\u001b[0m\u001b[0;34m,\u001b[0m\u001b[0;34m'https://hub.e-nable.org/enterprise/spacetype/directory/index?id=1'\u001b[0m\u001b[0;34m)\u001b[0m\u001b[0;34m\u001b[0m\u001b[0;34m\u001b[0m\u001b[0m\n\u001b[0;32m----> 5\u001b[0;31m \u001b[0mallSpaces\u001b[0m \u001b[0;34m=\u001b[0m \u001b[0mofficalSpaces\u001b[0m \u001b[0;34m+\u001b[0m \u001b[0mchapterSpaces\u001b[0m \u001b[0;34m+\u001b[0m \u001b[0mprojectSpaces\u001b[0m \u001b[0;34m+\u001b[0m \u001b[0mvolunteerSpaces\u001b[0m\u001b[0;34m\u001b[0m\u001b[0;34m\u001b[0m\u001b[0m\n\u001b[0m",
      "\u001b[0;31mTypeError\u001b[0m: unsupported operand type(s) for +: 'dict' and 'dict'"
     ]
    }
   ],
   "source": [
    "officalSpaces = getSpaces('official', 'https://hub.e-nable.org/enterprise/spacetype/directory/index?id=2')\n",
    "chapterSpaces = getSpaces('chapter',  'https://hub.e-nable.org/enterprise/spacetype/directory/index?id=4')\n",
    "projectSpaces = getSpaces('project',  'https://hub.e-nable.org/enterprise/spacetype/directory/index?id=5')\n",
    "volunteerSpaces=getSpaces('volunteer','https://hub.e-nable.org/enterprise/spacetype/directory/index?id=1')"
   ]
  },
  {
   "cell_type": "code",
   "execution_count": 190,
   "metadata": {},
   "outputs": [],
   "source": [
    "#merge them\n",
    "allSpaces = {}\n",
    "for D in [officalSpaces, chapterSpaces, projectSpaces, volunteerSpaces]:\n",
    "    for k,v in D.items():\n",
    "          allSpaces[k] = v\n"
   ]
  },
  {
   "cell_type": "code",
   "execution_count": 267,
   "metadata": {},
   "outputs": [
    {
     "data": {
      "text/plain": [
       "[]"
      ]
     },
     "execution_count": 267,
     "metadata": {},
     "output_type": "execute_result"
    }
   ],
   "source": []
  },
  {
   "cell_type": "code",
   "execution_count": 265,
   "metadata": {},
   "outputs": [
    {
     "ename": "WebDriverException",
     "evalue": "Message: chrome not reachable\n  (Session info: chrome=78.0.3904.97)\n  (Driver info: chromedriver=2.35.528157 (4429ca2590d6988c0745c24c8858745aaaec01ef),platform=Mac OS X 10.15.1 x86_64)\n",
     "output_type": "error",
     "traceback": [
      "\u001b[0;31m---------------------------------------------------------------------------\u001b[0m",
      "\u001b[0;31mWebDriverException\u001b[0m                        Traceback (most recent call last)",
      "\u001b[0;32m<ipython-input-265-4768b7602d64>\u001b[0m in \u001b[0;36m<module>\u001b[0;34m()\u001b[0m\n\u001b[1;32m      3\u001b[0m \u001b[0;32mfor\u001b[0m \u001b[0mhref\u001b[0m\u001b[0;34m,\u001b[0m \u001b[0mkind\u001b[0m \u001b[0;32min\u001b[0m \u001b[0mallSpaces\u001b[0m\u001b[0;34m.\u001b[0m\u001b[0mitems\u001b[0m\u001b[0;34m(\u001b[0m\u001b[0;34m)\u001b[0m\u001b[0;34m:\u001b[0m\u001b[0;34m\u001b[0m\u001b[0;34m\u001b[0m\u001b[0m\n\u001b[1;32m      4\u001b[0m     \u001b[0mspaceDict\u001b[0m \u001b[0;34m=\u001b[0m \u001b[0mOrderedDict\u001b[0m\u001b[0;34m(\u001b[0m\u001b[0mhref\u001b[0m\u001b[0;34m=\u001b[0m\u001b[0mhref\u001b[0m\u001b[0;34m,\u001b[0m \u001b[0mkind\u001b[0m\u001b[0;34m=\u001b[0m\u001b[0mkind\u001b[0m\u001b[0;34m)\u001b[0m\u001b[0;34m\u001b[0m\u001b[0;34m\u001b[0m\u001b[0m\n\u001b[0;32m----> 5\u001b[0;31m     \u001b[0mhumhub\u001b[0m\u001b[0;34m.\u001b[0m\u001b[0mget\u001b[0m\u001b[0;34m(\u001b[0m\u001b[0mhref\u001b[0m\u001b[0;34m)\u001b[0m\u001b[0;34m\u001b[0m\u001b[0;34m\u001b[0m\u001b[0m\n\u001b[0m\u001b[1;32m      6\u001b[0m     \u001b[0msleep\u001b[0m\u001b[0;34m(\u001b[0m\u001b[0;36m1\u001b[0m\u001b[0;34m)\u001b[0m\u001b[0;34m\u001b[0m\u001b[0;34m\u001b[0m\u001b[0m\n\u001b[1;32m      7\u001b[0m     \u001b[0mspaceDict\u001b[0m\u001b[0;34m[\u001b[0m\u001b[0;34m'name'\u001b[0m\u001b[0;34m]\u001b[0m \u001b[0;34m=\u001b[0m \u001b[0mhumhub\u001b[0m\u001b[0;34m.\u001b[0m\u001b[0mfind_elements_by_class_name\u001b[0m\u001b[0;34m(\u001b[0m\u001b[0;34m'row'\u001b[0m\u001b[0;34m)\u001b[0m\u001b[0;34m[\u001b[0m\u001b[0;36m0\u001b[0m\u001b[0;34m]\u001b[0m\u001b[0;34m.\u001b[0m\u001b[0mtext\u001b[0m\u001b[0;34m.\u001b[0m\u001b[0msplit\u001b[0m\u001b[0;34m(\u001b[0m\u001b[0;34m'\\n'\u001b[0m\u001b[0;34m)\u001b[0m\u001b[0;34m[\u001b[0m\u001b[0;36m0\u001b[0m\u001b[0;34m]\u001b[0m\u001b[0;34m\u001b[0m\u001b[0;34m\u001b[0m\u001b[0m\n",
      "\u001b[0;32m~/miniconda3/lib/python3.6/site-packages/selenium/webdriver/remote/webdriver.py\u001b[0m in \u001b[0;36mget\u001b[0;34m(self, url)\u001b[0m\n\u001b[1;32m    331\u001b[0m         \u001b[0mLoads\u001b[0m \u001b[0ma\u001b[0m \u001b[0mweb\u001b[0m \u001b[0mpage\u001b[0m \u001b[0;32min\u001b[0m \u001b[0mthe\u001b[0m \u001b[0mcurrent\u001b[0m \u001b[0mbrowser\u001b[0m \u001b[0msession\u001b[0m\u001b[0;34m.\u001b[0m\u001b[0;34m\u001b[0m\u001b[0;34m\u001b[0m\u001b[0m\n\u001b[1;32m    332\u001b[0m         \"\"\"\n\u001b[0;32m--> 333\u001b[0;31m         \u001b[0mself\u001b[0m\u001b[0;34m.\u001b[0m\u001b[0mexecute\u001b[0m\u001b[0;34m(\u001b[0m\u001b[0mCommand\u001b[0m\u001b[0;34m.\u001b[0m\u001b[0mGET\u001b[0m\u001b[0;34m,\u001b[0m \u001b[0;34m{\u001b[0m\u001b[0;34m'url'\u001b[0m\u001b[0;34m:\u001b[0m \u001b[0murl\u001b[0m\u001b[0;34m}\u001b[0m\u001b[0;34m)\u001b[0m\u001b[0;34m\u001b[0m\u001b[0;34m\u001b[0m\u001b[0m\n\u001b[0m\u001b[1;32m    334\u001b[0m \u001b[0;34m\u001b[0m\u001b[0m\n\u001b[1;32m    335\u001b[0m     \u001b[0;34m@\u001b[0m\u001b[0mproperty\u001b[0m\u001b[0;34m\u001b[0m\u001b[0;34m\u001b[0m\u001b[0m\n",
      "\u001b[0;32m~/miniconda3/lib/python3.6/site-packages/selenium/webdriver/remote/webdriver.py\u001b[0m in \u001b[0;36mexecute\u001b[0;34m(self, driver_command, params)\u001b[0m\n\u001b[1;32m    319\u001b[0m         \u001b[0mresponse\u001b[0m \u001b[0;34m=\u001b[0m \u001b[0mself\u001b[0m\u001b[0;34m.\u001b[0m\u001b[0mcommand_executor\u001b[0m\u001b[0;34m.\u001b[0m\u001b[0mexecute\u001b[0m\u001b[0;34m(\u001b[0m\u001b[0mdriver_command\u001b[0m\u001b[0;34m,\u001b[0m \u001b[0mparams\u001b[0m\u001b[0;34m)\u001b[0m\u001b[0;34m\u001b[0m\u001b[0;34m\u001b[0m\u001b[0m\n\u001b[1;32m    320\u001b[0m         \u001b[0;32mif\u001b[0m \u001b[0mresponse\u001b[0m\u001b[0;34m:\u001b[0m\u001b[0;34m\u001b[0m\u001b[0;34m\u001b[0m\u001b[0m\n\u001b[0;32m--> 321\u001b[0;31m             \u001b[0mself\u001b[0m\u001b[0;34m.\u001b[0m\u001b[0merror_handler\u001b[0m\u001b[0;34m.\u001b[0m\u001b[0mcheck_response\u001b[0m\u001b[0;34m(\u001b[0m\u001b[0mresponse\u001b[0m\u001b[0;34m)\u001b[0m\u001b[0;34m\u001b[0m\u001b[0;34m\u001b[0m\u001b[0m\n\u001b[0m\u001b[1;32m    322\u001b[0m             response['value'] = self._unwrap_value(\n\u001b[1;32m    323\u001b[0m                 response.get('value', None))\n",
      "\u001b[0;32m~/miniconda3/lib/python3.6/site-packages/selenium/webdriver/remote/errorhandler.py\u001b[0m in \u001b[0;36mcheck_response\u001b[0;34m(self, response)\u001b[0m\n\u001b[1;32m    240\u001b[0m                 \u001b[0malert_text\u001b[0m \u001b[0;34m=\u001b[0m \u001b[0mvalue\u001b[0m\u001b[0;34m[\u001b[0m\u001b[0;34m'alert'\u001b[0m\u001b[0;34m]\u001b[0m\u001b[0;34m.\u001b[0m\u001b[0mget\u001b[0m\u001b[0;34m(\u001b[0m\u001b[0;34m'text'\u001b[0m\u001b[0;34m)\u001b[0m\u001b[0;34m\u001b[0m\u001b[0;34m\u001b[0m\u001b[0m\n\u001b[1;32m    241\u001b[0m             \u001b[0;32mraise\u001b[0m \u001b[0mexception_class\u001b[0m\u001b[0;34m(\u001b[0m\u001b[0mmessage\u001b[0m\u001b[0;34m,\u001b[0m \u001b[0mscreen\u001b[0m\u001b[0;34m,\u001b[0m \u001b[0mstacktrace\u001b[0m\u001b[0;34m,\u001b[0m \u001b[0malert_text\u001b[0m\u001b[0;34m)\u001b[0m\u001b[0;34m\u001b[0m\u001b[0;34m\u001b[0m\u001b[0m\n\u001b[0;32m--> 242\u001b[0;31m         \u001b[0;32mraise\u001b[0m \u001b[0mexception_class\u001b[0m\u001b[0;34m(\u001b[0m\u001b[0mmessage\u001b[0m\u001b[0;34m,\u001b[0m \u001b[0mscreen\u001b[0m\u001b[0;34m,\u001b[0m \u001b[0mstacktrace\u001b[0m\u001b[0;34m)\u001b[0m\u001b[0;34m\u001b[0m\u001b[0;34m\u001b[0m\u001b[0m\n\u001b[0m\u001b[1;32m    243\u001b[0m \u001b[0;34m\u001b[0m\u001b[0m\n\u001b[1;32m    244\u001b[0m     \u001b[0;32mdef\u001b[0m \u001b[0m_value_or_default\u001b[0m\u001b[0;34m(\u001b[0m\u001b[0mself\u001b[0m\u001b[0;34m,\u001b[0m \u001b[0mobj\u001b[0m\u001b[0;34m,\u001b[0m \u001b[0mkey\u001b[0m\u001b[0;34m,\u001b[0m \u001b[0mdefault\u001b[0m\u001b[0;34m)\u001b[0m\u001b[0;34m:\u001b[0m\u001b[0;34m\u001b[0m\u001b[0;34m\u001b[0m\u001b[0m\n",
      "\u001b[0;31mWebDriverException\u001b[0m: Message: chrome not reachable\n  (Session info: chrome=78.0.3904.97)\n  (Driver info: chromedriver=2.35.528157 (4429ca2590d6988c0745c24c8858745aaaec01ef),platform=Mac OS X 10.15.1 x86_64)\n"
     ]
    }
   ],
   "source": [
    "from collections import OrderedDict\n",
    "spaceDicts = []\n",
    "for href, kind in allSpaces.items():\n",
    "    spaceDict = OrderedDict(href=href, kind=kind)\n",
    "    humhub.get(href)\n",
    "    sleep(1)\n",
    "    spaceDict['name'] = humhub.find_elements_by_class_name('row')[0].text.split('\\n')[0]\n",
    "    statsRow = humhub.find_elements_by_class_name('row')[1].text\n",
    "    statsRow = statsRow.split('\\n')\n",
    "    spaceDict['posts']    = statsRow[0]\n",
    "    spaceDict['members']  = statsRow[2]\n",
    "    spaceDict['followers']= statsRow[4]\n",
    "    print(spaceDict)\n",
    "    spaceDicts.append(spaceDict)"
   ]
  },
  {
   "cell_type": "code",
   "execution_count": null,
   "metadata": {},
   "outputs": [],
   "source": []
  }
 ],
 "metadata": {
  "kernelspec": {
   "display_name": "Python 3",
   "language": "python",
   "name": "python3"
  },
  "language_info": {
   "codemirror_mode": {
    "name": "ipython",
    "version": 3
   },
   "file_extension": ".py",
   "mimetype": "text/x-python",
   "name": "python",
   "nbconvert_exporter": "python",
   "pygments_lexer": "ipython3",
   "version": "3.6.8"
  }
 },
 "nbformat": 4,
 "nbformat_minor": 2
}
