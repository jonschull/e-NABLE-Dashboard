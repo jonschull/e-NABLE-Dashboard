{
 "cells": [
  {
   "cell_type": "markdown",
   "metadata": {},
   "source": [
    "## Dashboard\n",
    "Dashboard.ipynb is the master-runner of several subsidiary \"notebook.ipynb\" files.\n",
    "\n",
    "It's meant to be several times a day via a cron job:\n",
    "\n",
    "__!jupyter nbconvert --execute --ExecutePreprocessor.timeout=1000 dashboard.ipynb__\n",
    "\n",
    "In addition to running other notebooks, this will create dashboard.html which will include traces of the last run.  (Each of the ipynb files will have their own output as well).\n",
    "\n",
    "A successful run  will look like this produce output like this\n",
    "<pre>\n",
    "    2019-12-03 12:21\n",
    "    [NbConvertApp] Converting notebook facebooker.ipynb to html\n",
    "    [NbConvertApp] Executing notebook with kernel: python3\n",
    "    [NbConvertApp] Writing 286551 bytes to facebooker.html\n",
    "    2019-12-03 12:23\n",
    "</pre>\n",
    "\n",
    "* Most of subsidiary notebook run selenium chromedriver in headless mode.  \n",
    "* If a subsidary notebook fails, you will get a first indication of that in dashboard.html.\n",
    "* If you open the html for the subsidiary files, you will see a good error trace.\n",
    "* To debug that, you may want to set HEADLESS=False and re-run the program and see what Selenium is doing.  (When you've fixed the problem set HEADLESS back to True.)\n",
    "\n",
    "Required files include\n",
    "* dashboardUtils.py\n",
    "* facebooker.ipynb"
   ]
  },
  {
   "cell_type": "markdown",
   "metadata": {},
   "source": [
    "### Prelims driver, date, time"
   ]
  },
  {
   "cell_type": "code",
   "execution_count": 4,
   "metadata": {},
   "outputs": [],
   "source": [
    "from dashboardUtils import *"
   ]
  },
  {
   "cell_type": "markdown",
   "metadata": {},
   "source": [
    "### Run facebooker.ipynb"
   ]
  },
  {
   "cell_type": "code",
   "execution_count": 5,
   "metadata": {},
   "outputs": [
    {
     "name": "stdout",
     "output_type": "stream",
     "text": [
      "2019-12-03 12:21\n",
      "[NbConvertApp] Converting notebook facebooker.ipynb to html\n",
      "[NbConvertApp] Executing notebook with kernel: python3\n",
      "[NbConvertApp] Writing 286551 bytes to facebooker.html\n",
      "2019-12-03 12:23\n",
      "\n"
     ]
    }
   ],
   "source": [
    "print(date(), time())\n",
    "!jupyter nbconvert --execute --ExecutePreprocessor.timeout=300 facebooker.ipynb\n",
    "print(date(), time())\n",
    "print()"
   ]
  },
  {
   "cell_type": "markdown",
   "metadata": {},
   "source": [
    "#### (Incomplete wikifactory interrogation.)\n",
    "see EnableInventory-includes incomplete WF.ipynb"
   ]
  },
  {
   "cell_type": "markdown",
   "metadata": {},
   "source": [
    "## hub.e-nable.org"
   ]
  },
  {
   "cell_type": "code",
   "execution_count": 10,
   "metadata": {},
   "outputs": [],
   "source": [
    "### gather data on all the hubspaces"
   ]
  },
  {
   "cell_type": "code",
   "execution_count": 7,
   "metadata": {},
   "outputs": [
    {
     "name": "stdout",
     "output_type": "stream",
     "text": [
      "2019-12-03 12:34\n",
      "[NbConvertApp] Converting notebook hubSpaces.ipynb to html\n",
      "[NbConvertApp] Executing notebook with kernel: python3\n",
      "[NbConvertApp] Writing 305168 bytes to hubSpaces.html\n",
      "2019-12-03 12:37\n",
      "\n"
     ]
    }
   ],
   "source": [
    "print(date(), time())\n",
    "!jupyter nbconvert --execute --ExecutePreprocessor.timeout=300 hubSpaces.ipynb\n",
    "print(date(), time())\n",
    "print()"
   ]
  },
  {
   "cell_type": "code",
   "execution_count": null,
   "metadata": {},
   "outputs": [],
   "source": [
    "### gather data on all the members.  This can take 16 minutes with 600 members"
   ]
  },
  {
   "cell_type": "code",
   "execution_count": 9,
   "metadata": {},
   "outputs": [
    {
     "name": "stdout",
     "output_type": "stream",
     "text": [
      "2019-12-03 12:38\n",
      "[NbConvertApp] Converting notebook hubMembers.ipynb to html\n",
      "[NbConvertApp] Executing notebook with kernel: python3\n",
      "[NbConvertApp] Writing 289259 bytes to hubMembers.html\n",
      "2019-12-03 12:54\n",
      "\n"
     ]
    }
   ],
   "source": [
    "print(date(), time())\n",
    "!jupyter nbconvert --execute --ExecutePreprocessor.timeout=1200 hubMembers.ipynb\n",
    "print(date(), time())\n",
    "print()"
   ]
  },
  {
   "cell_type": "code",
   "execution_count": 11,
   "metadata": {},
   "outputs": [],
   "source": [
    "### splice it together and upload to gSheet for https://kumu.io/jonschull/hubanal#people-and-spaces"
   ]
  },
  {
   "cell_type": "code",
   "execution_count": 13,
   "metadata": {},
   "outputs": [
    {
     "name": "stdout",
     "output_type": "stream",
     "text": [
      "2019-12-03 12:55\n",
      "[NbConvertApp] Converting notebook membersforkumu.ipynb to html\n",
      "[NbConvertApp] Executing notebook with kernel: python3\n",
      "[NbConvertApp] Writing 286714 bytes to membersforkumu.html\n",
      "2019-12-03 12:55\n",
      "\n"
     ]
    }
   ],
   "source": [
    "print(date(), time())\n",
    "!jupyter nbconvert --execute --ExecutePreprocessor.timeout=1200 membersforkumu.ipynb\n",
    "print(date(), time())\n",
    "print()"
   ]
  },
  {
   "cell_type": "markdown",
   "metadata": {},
   "source": [
    "## Videos"
   ]
  },
  {
   "cell_type": "code",
   "execution_count": 12,
   "metadata": {},
   "outputs": [
    {
     "name": "stdout",
     "output_type": "stream",
     "text": [
      "2019-12-03 12:55\n",
      "[NbConvertApp] Converting notebook Videos.ipynb to html\n",
      "[NbConvertApp] Executing notebook with kernel: python3\n",
      "[NbConvertApp] Writing 296348 bytes to Videos.html\n",
      "2019-12-03 12:55\n",
      "\n"
     ]
    }
   ],
   "source": [
    "print(date(), time())\n",
    "!jupyter nbconvert --execute --ExecutePreprocessor.timeout=180 Videos.ipynb\n",
    "print(date(), time())\n",
    "print()"
   ]
  },
  {
   "cell_type": "markdown",
   "metadata": {},
   "source": [
    "# Finally, Tableizer"
   ]
  },
  {
   "cell_type": "code",
   "execution_count": 17,
   "metadata": {},
   "outputs": [
    {
     "name": "stdout",
     "output_type": "stream",
     "text": [
      "2019-12-03 12:58\n",
      "[NbConvertApp] Converting notebook Tableizer.ipynb to html\n",
      "[NbConvertApp] Executing notebook with kernel: python3\n",
      "[NbConvertApp] Writing 291354 bytes to Tableizer.html\n",
      "2019-12-03 12:58\n",
      "\n"
     ]
    }
   ],
   "source": [
    "print(date(), time())\n",
    "!jupyter nbconvert --execute --ExecutePreprocessor.timeout=180  --no-input Tableizer.ipynb\n",
    "print(date(), time())\n",
    "print()\n",
    "\n",
    "!open Tableizer.html"
   ]
  },
  {
   "cell_type": "code",
   "execution_count": 16,
   "metadata": {},
   "outputs": [],
   "source": []
  },
  {
   "cell_type": "code",
   "execution_count": null,
   "metadata": {},
   "outputs": [],
   "source": []
  }
 ],
 "metadata": {
  "kernelspec": {
   "display_name": "Python 3",
   "language": "python",
   "name": "python3"
  },
  "language_info": {
   "codemirror_mode": {
    "name": "ipython",
    "version": 3
   },
   "file_extension": ".py",
   "mimetype": "text/x-python",
   "name": "python",
   "nbconvert_exporter": "python",
   "pygments_lexer": "ipython3",
   "version": "3.7.4"
  }
 },
 "nbformat": 4,
 "nbformat_minor": 4
}
