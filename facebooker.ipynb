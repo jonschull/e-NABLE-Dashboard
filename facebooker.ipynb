{
 "cells": [
  {
   "cell_type": "code",
   "execution_count": 10,
   "metadata": {},
   "outputs": [],
   "source": [
    "from dashboardUtils import *\n",
    "driver = Driver(HEADLESS=True)"
   ]
  },
  {
   "cell_type": "code",
   "execution_count": 2,
   "metadata": {},
   "outputs": [],
   "source": [
    "FBaggregator   = []"
   ]
  },
  {
   "cell_type": "code",
   "execution_count": 3,
   "metadata": {},
   "outputs": [
    {
     "name": "stdout",
     "output_type": "stream",
     "text": [
      "click Allow\n"
     ]
    }
   ],
   "source": [
    "def fblogin(howSlow=2):\n",
    "    sleep(howSlow)\n",
    "    driver.get('https://facebook.com')\n",
    "    driver.find_element_by_class_name('inputtext').send_keys('jschull@gmail.com')\n",
    "    driver.find_elements_by_class_name('inputtext')[1].send_keys('9yvfcpamvnaiyatvpt\\n')  \n",
    "    print('click Allow')\n",
    "    return driver\n",
    "    \n",
    "driver = fblogin()"
   ]
  },
  {
   "cell_type": "code",
   "execution_count": 4,
   "metadata": {},
   "outputs": [],
   "source": [
    "facebookGroups=\"\"\"\n",
    "https://www.facebook.com/groups/enabledfamilies/\n",
    "https://www.facebook.com/groups/enablebadgekeepers/\n",
    "https://www.facebook.com/groups/enablecollaborators/\n",
    "https://www.facebook.com/groups/enablechapterleaders/\n",
    "https://www.facebook.com/groups/enablefrance/\n",
    "https://www.facebook.com/groups/enablecommunitybulletinboard/\n",
    "https://www.facebook.com/groups/enableeducatorsalliance/\n",
    "\"\"\".strip().split('\\n')\n",
    "#facebookGroups"
   ]
  },
  {
   "cell_type": "code",
   "execution_count": 5,
   "metadata": {},
   "outputs": [],
   "source": [
    "def getGroupInfo(URL,howSlow=2):\n",
    "    driver.get(URL)\n",
    "    sleep(2)\n",
    "    driver.get_screenshot_as_file('facebooker.png')\n",
    "    rightCol = driver.find_element_by_id('rightCol')\n",
    "    lines = rightCol.text.split('\\n')\n",
    "    members = [line for line in lines if line.endswith('Members')][0]\n",
    "    name = URL.strip('/').split('/')[-1]\n",
    "    print(name, members)\n",
    "    return dict(href=URL, name=name, members=members, date=date(), time=time())"
   ]
  },
  {
   "cell_type": "code",
   "execution_count": 6,
   "metadata": {},
   "outputs": [
    {
     "name": "stdout",
     "output_type": "stream",
     "text": [
      "enabledfamilies 103 Members\n",
      "enablebadgekeepers 158 Members\n",
      "enablecollaborators 1,329 Members\n",
      "enablechapterleaders 171 Members\n",
      "enablefrance 452 Members\n",
      "enablecommunitybulletinboard 456 Members\n",
      "enableeducatorsalliance 166 Members\n"
     ]
    }
   ],
   "source": [
    "for group in facebookGroups:\n",
    "    FBaggregator.append(getGroupInfo(group))"
   ]
  },
  {
   "cell_type": "code",
   "execution_count": 7,
   "metadata": {},
   "outputs": [],
   "source": [
    "def getFBCommunityInfo(URL):\n",
    "    driver.get(URL)\n",
    "    sleep(2)\n",
    "    sideCol = driver.find_element_by_id('pages_side_column')\n",
    "    lines=sideCol.text.split('\\n')\n",
    "    likethis = [line for line in lines if line.endswith('like this')][0]\n",
    "    followthis = [line for line in lines if line.endswith('follow this')][0]\n",
    "    followers = followthis.split()[0] + ' members'\n",
    "    name = URL.strip('/').split('/')[-1]\n",
    "    return dict(href=URL, date=date(), name=name, time=time(), members = followers)\n",
    "\n",
    "FBaggregator.append( getFBCommunityInfo('https://www.facebook.com/enablingthefuture') )"
   ]
  },
  {
   "cell_type": "code",
   "execution_count": 8,
   "metadata": {},
   "outputs": [],
   "source": [
    "#make all members numbers integers\n",
    "for i,row in enumerate(FBaggregator):\n",
    "    rowStr = row['members']\n",
    "    num = rowStr.split()[0].replace(',','')\n",
    "    FBaggregator[i]['members'] = int(num)\n",
    "    FBaggregator[i]['kind'] = 'facebook'\n",
    "    "
   ]
  },
  {
   "cell_type": "code",
   "execution_count": 9,
   "metadata": {},
   "outputs": [],
   "source": [
    "DataFrame(FBaggregator).to_excel('facebook.xls')"
   ]
  },
  {
   "cell_type": "code",
   "execution_count": null,
   "metadata": {},
   "outputs": [],
   "source": []
  }
 ],
 "metadata": {
  "kernelspec": {
   "display_name": "Python 3",
   "language": "python",
   "name": "python3"
  },
  "language_info": {
   "codemirror_mode": {
    "name": "ipython",
    "version": 3
   },
   "file_extension": ".py",
   "mimetype": "text/x-python",
   "name": "python",
   "nbconvert_exporter": "python",
   "pygments_lexer": "ipython3",
   "version": "3.7.4"
  }
 },
 "nbformat": 4,
 "nbformat_minor": 4
}
