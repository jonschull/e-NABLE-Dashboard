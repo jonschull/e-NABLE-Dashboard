{
 "cells": [
  {
   "cell_type": "code",
   "execution_count": 2,
   "metadata": {},
   "outputs": [],
   "source": [
    "from dashboardUtils import *\n",
    "\n",
    "driver = Driver(HEADLESS=True)"
   ]
  },
  {
   "cell_type": "code",
   "execution_count": 3,
   "metadata": {},
   "outputs": [],
   "source": [
    "def loginToHumhub():\n",
    "    driver.get('https://hub.e-nable.org/user/auth/login')\n",
    "    elem = driver.find_element_by_id('login_username')\n",
    "    elem.send_keys('jschull@e-nable.org')\n",
    "    sleep(1)\n",
    "    elem = driver.find_element_by_id('login_password')\n",
    "    sleep(1)\n",
    "    elem.send_keys('JcE98vA5\\n')\n",
    "    \n",
    "loginToHumhub()"
   ]
  },
  {
   "cell_type": "code",
   "execution_count": 4,
   "metadata": {},
   "outputs": [
    {
     "data": {
      "text/plain": [
       "OrderedDict([('user-total', '608'),\n",
       "             ('user-online', '15'),\n",
       "             ('date', '2019-12-03'),\n",
       "             ('time', '12:29'),\n",
       "             ('page', 'hub.e-nable.org')])"
      ]
     },
     "execution_count": 4,
     "metadata": {},
     "output_type": "execute_result"
    }
   ],
   "source": [
    "sleep(3)\n",
    "stats = OrderedDict()\n",
    "driver.get('https://hub.e-nable.org/directory/members?page=1&per-page=25&')\n",
    "sleep(5)\n",
    "stats['user-total'] = driver.find_element_by_id('user-total').get_attribute('value')\n",
    "stats['user-online'] = driver.find_element_by_id('user-online').get_attribute('value')\n",
    "stats['date']=date()\n",
    "stats['time']=time()\n",
    "stats['page']='hub.e-nable.org'\n",
    "stats\n",
    "\n"
   ]
  },
  {
   "cell_type": "code",
   "execution_count": 5,
   "metadata": {},
   "outputs": [
    {
     "data": {
      "text/html": [
       "<div>\n",
       "<style scoped>\n",
       "    .dataframe tbody tr th:only-of-type {\n",
       "        vertical-align: middle;\n",
       "    }\n",
       "\n",
       "    .dataframe tbody tr th {\n",
       "        vertical-align: top;\n",
       "    }\n",
       "\n",
       "    .dataframe thead th {\n",
       "        text-align: right;\n",
       "    }\n",
       "</style>\n",
       "<table border=\"1\" class=\"dataframe\">\n",
       "  <thead>\n",
       "    <tr style=\"text-align: right;\">\n",
       "      <th></th>\n",
       "      <th>user-total</th>\n",
       "      <th>user-online</th>\n",
       "      <th>date</th>\n",
       "      <th>time</th>\n",
       "      <th>page</th>\n",
       "    </tr>\n",
       "  </thead>\n",
       "  <tbody>\n",
       "    <tr>\n",
       "      <td>0</td>\n",
       "      <td>608</td>\n",
       "      <td>15</td>\n",
       "      <td>2019-12-03</td>\n",
       "      <td>12:29</td>\n",
       "      <td>hub.e-nable.org</td>\n",
       "    </tr>\n",
       "  </tbody>\n",
       "</table>\n",
       "</div>"
      ],
      "text/plain": [
       "  user-total user-online        date   time             page\n",
       "0        608          15  2019-12-03  12:29  hub.e-nable.org"
      ]
     },
     "execution_count": 5,
     "metadata": {},
     "output_type": "execute_result"
    }
   ],
   "source": [
    "DataFrame([stats])"
   ]
  },
  {
   "cell_type": "code",
   "execution_count": 8,
   "metadata": {},
   "outputs": [],
   "source": [
    "from pySheets import DictArray\n",
    "try:\n",
    "    hubStats = pd.read_excel('hubstats.xls')\n",
    "    da=DictArray(hubStats)\n",
    "    da = [stats] + da #newest data first\n",
    "    hubStats=DataFrame(da)\n",
    "except FileNotFoundError:\n",
    "    hubStats = DataFrame([stats])\n",
    "    \n",
    "hubStats.to_excel('hubstats.xls', index=False)"
   ]
  },
  {
   "cell_type": "code",
   "execution_count": null,
   "metadata": {},
   "outputs": [],
   "source": []
  },
  {
   "cell_type": "code",
   "execution_count": 54,
   "metadata": {},
   "outputs": [],
   "source": [
    "def getSpaces(kind='official', URL='https://hub.e-nable.org/enterprise/spacetype/directory/index?id=2'):\n",
    "    driver.get(URL)\n",
    "    sleep(1)\n",
    "    bodies = driver.find_elements_by_class_name('media-body')\n",
    "    hrefs =[body.find_element_by_tag_name('a').get_attribute('href')\n",
    "               for body in bodies if body.text]\n",
    "    kinds = [kind]*len(hrefs)\n",
    "    return dict(zip(hrefs,kinds))\n",
    "#getSpaces()"
   ]
  },
  {
   "cell_type": "code",
   "execution_count": 55,
   "metadata": {},
   "outputs": [],
   "source": [
    "officalSpaces = getSpaces('official', 'https://hub.e-nable.org/enterprise/spacetype/directory/index?id=2')\n",
    "chapterSpaces = getSpaces('chapter',  'https://hub.e-nable.org/enterprise/spacetype/directory/index?id=4')\n",
    "projectSpaces = getSpaces('project',  'https://hub.e-nable.org/enterprise/spacetype/directory/index?id=5')\n",
    "volunteerSpaces=getSpaces('volunteer','https://hub.e-nable.org/enterprise/spacetype/directory/index?id=1')"
   ]
  },
  {
   "cell_type": "code",
   "execution_count": 56,
   "metadata": {},
   "outputs": [],
   "source": [
    "#merge them\n",
    "allSpaces = {}\n",
    "for D in [officalSpaces, chapterSpaces, projectSpaces, volunteerSpaces]:\n",
    "    for k,v in D.items():\n",
    "          allSpaces[k] = v\n"
   ]
  },
  {
   "cell_type": "code",
   "execution_count": 57,
   "metadata": {},
   "outputs": [
    {
     "ename": "TypeError",
     "evalue": "'dict_items' object is not subscriptable",
     "output_type": "error",
     "traceback": [
      "\u001b[0;31m---------------------------------------------------------------------------\u001b[0m",
      "\u001b[0;31mTypeError\u001b[0m                                 Traceback (most recent call last)",
      "\u001b[0;32m<ipython-input-57-60b1f92a8630>\u001b[0m in \u001b[0;36m<module>\u001b[0;34m\u001b[0m\n\u001b[1;32m      1\u001b[0m \u001b[0;32mfrom\u001b[0m \u001b[0mcollections\u001b[0m \u001b[0;32mimport\u001b[0m \u001b[0mOrderedDict\u001b[0m\u001b[0;34m\u001b[0m\u001b[0;34m\u001b[0m\u001b[0m\n\u001b[1;32m      2\u001b[0m \u001b[0mspaceDicts\u001b[0m \u001b[0;34m=\u001b[0m \u001b[0;34m[\u001b[0m\u001b[0;34m]\u001b[0m\u001b[0;34m\u001b[0m\u001b[0;34m\u001b[0m\u001b[0m\n\u001b[0;32m----> 3\u001b[0;31m \u001b[0;32mfor\u001b[0m \u001b[0mhref\u001b[0m\u001b[0;34m,\u001b[0m \u001b[0mkind\u001b[0m \u001b[0;32min\u001b[0m \u001b[0mallSpaces\u001b[0m\u001b[0;34m.\u001b[0m\u001b[0mitems\u001b[0m\u001b[0;34m(\u001b[0m\u001b[0;34m)\u001b[0m\u001b[0;34m[\u001b[0m\u001b[0;34m:\u001b[0m\u001b[0;36m2\u001b[0m\u001b[0;34m]\u001b[0m\u001b[0;34m:\u001b[0m\u001b[0;34m\u001b[0m\u001b[0;34m\u001b[0m\u001b[0m\n\u001b[0m\u001b[1;32m      4\u001b[0m     \u001b[0mspaceDict\u001b[0m \u001b[0;34m=\u001b[0m \u001b[0mOrderedDict\u001b[0m\u001b[0;34m(\u001b[0m\u001b[0mhref\u001b[0m\u001b[0;34m=\u001b[0m\u001b[0mhref\u001b[0m\u001b[0;34m,\u001b[0m \u001b[0mkind\u001b[0m\u001b[0;34m=\u001b[0m\u001b[0mkind\u001b[0m\u001b[0;34m)\u001b[0m\u001b[0;34m\u001b[0m\u001b[0;34m\u001b[0m\u001b[0m\n\u001b[1;32m      5\u001b[0m     \u001b[0mdriver\u001b[0m\u001b[0;34m.\u001b[0m\u001b[0mget\u001b[0m\u001b[0;34m(\u001b[0m\u001b[0mhref\u001b[0m\u001b[0;34m)\u001b[0m\u001b[0;34m\u001b[0m\u001b[0;34m\u001b[0m\u001b[0m\n",
      "\u001b[0;31mTypeError\u001b[0m: 'dict_items' object is not subscriptable"
     ]
    }
   ],
   "source": [
    "from collections import OrderedDict\n",
    "spaceDicts = []\n",
    "for href, kind in allSpaces.items():\n",
    "    spaceDict = OrderedDict(href=href, kind=kind)\n",
    "    driver.get(href)\n",
    "    sleep(1)\n",
    "    spaceDict['name'] = driver.find_elements_by_class_name('row')[0].text.split('\\n')[0]\n",
    "    statsRow = driver.find_elements_by_class_name('row')[1].text\n",
    "    statsRow = statsRow.split('\\n')\n",
    "    spaceDict['posts']    = statsRow[0]\n",
    "    spaceDict['members']  = statsRow[2]\n",
    "    spaceDict['followers']= statsRow[4]\n",
    "    #print(spaceDict)\n",
    "    spaceDicts.append(spaceDict)"
   ]
  },
  {
   "cell_type": "code",
   "execution_count": null,
   "metadata": {},
   "outputs": [],
   "source": [
    "DataFrame(spaceDicts).to_excel('spacestmp.xls')\n",
    "DataFrame(spaceDicts)"
   ]
  },
  {
   "cell_type": "code",
   "execution_count": 59,
   "metadata": {},
   "outputs": [
    {
     "data": {
      "text/plain": [
       "{'https://hub.e-nable.org/s/electronics/': 'official',\n",
       " 'https://hub.e-nable.org/s/e-nable-spc/': 'official',\n",
       " 'https://hub.e-nable.org/s/e-nable-chapter-leaders/': 'official',\n",
       " 'https://hub.e-nable.org/s/device-customization/': 'official',\n",
       " 'https://hub.e-nable.org/s/e-nable-devices/': 'official',\n",
       " 'https://hub.e-nable.org/s/e-nable-digital-badge-awards/': 'official',\n",
       " 'https://hub.e-nable.org/s/e-nable-educators-exchange/': 'official',\n",
       " 'https://hub.e-nable.org/s/e-nable-forum/': 'official',\n",
       " 'https://hub.e-nable.org/s/e-nable-forum-archives/': 'official',\n",
       " 'https://hub.e-nable.org/s/e-nable-fundraising/': 'official',\n",
       " 'https://hub.e-nable.org/s/e-nable-volunteering-needs/': 'official',\n",
       " 'https://hub.e-nable.org/s/e-nable-web-central/': 'official',\n",
       " 'https://hub.e-nable.org/s/e-nablecon-2019/': 'official',\n",
       " 'https://hub.e-nable.org/s/duke-enable/': 'chapter',\n",
       " 'https://hub.e-nable.org/s/e-nable-bucknell-university/': 'chapter',\n",
       " 'https://hub.e-nable.org/s/intero-unam-lab-mexico-city/': 'chapter',\n",
       " 'https://hub.e-nable.org/s/littleton-co-members-e-nable/': 'chapter',\n",
       " 'https://hub.e-nable.org/s/portland-e-nable/': 'chapter',\n",
       " 'https://hub.e-nable.org/s/rochester-enable-lab/': 'chapter',\n",
       " 'https://hub.e-nable.org/s/enablebrasil/': 'chapter',\n",
       " 'https://hub.e-nable.org/s/voluntariadoenable/': 'chapter',\n",
       " 'https://hub.e-nable.org/s/e-nable-excel-tecc-cadd/': 'chapter',\n",
       " 'https://hub.e-nable.org/s/e-nable-france/': 'chapter',\n",
       " 'https://hub.e-nable.org/s/chapter-spotlight/': 'project',\n",
       " 'https://hub.e-nable.org/s/10-yr-old-wide-palm/': 'project',\n",
       " 'https://hub.e-nable.org/s/3d-scan-data/': 'project',\n",
       " 'https://hub.e-nable.org/s/3d-scanners-and-software/': 'project',\n",
       " 'https://hub.e-nable.org/s/design-e-nables-online-presence/': 'project',\n",
       " 'https://hub.e-nable.org/s/e-nables-github-repository/': 'project',\n",
       " 'https://hub.e-nable.org/s/first-project-ever-trying-learn/': 'project',\n",
       " 'https://hub.e-nable.org/s/hebrew-academy-pbl-2019/': 'project',\n",
       " 'https://hub.e-nable.org/s/measuring-our-impact/': 'project',\n",
       " 'https://hub.e-nable.org/s/media-coordination-project/': 'project',\n",
       " 'https://hub.e-nable.org/s/motogripper-project/': 'project',\n",
       " 'https://hub.e-nable.org/s/motors-and-myos/': 'project',\n",
       " 'https://hub.e-nable.org/s/niop-no-insurance-optimized-prosthetics/': 'project',\n",
       " 'https://hub.e-nable.org/s/regulations-and-liability/': 'project',\n",
       " 'https://hub.e-nable.org/s/rehabilitation-resources/': 'project',\n",
       " 'https://hub.e-nable.org/s/roadrunner-v11/': 'project',\n",
       " 'https://hub.e-nable.org/s/enable-atlas/': 'project',\n",
       " 'https://hub.e-nable.org/s/vrar-development/': 'project',\n",
       " 'https://hub.e-nable.org/s/ava/': 'project',\n",
       " 'https://hub.e-nable.org/s/e-nable-newsletter-project/': 'project',\n",
       " 'https://hub.e-nable.org/s/robotic-arm/': 'project',\n",
       " 'https://hub.e-nable.org/s/arthur-putnam-space/': 'volunteer',\n",
       " 'https://hub.e-nable.org/s/bobs-space/': 'volunteer',\n",
       " 'https://hub.e-nable.org/s/everton-lins/': 'volunteer',\n",
       " 'https://hub.e-nable.org/s/jons-space/': 'volunteer'}"
      ]
     },
     "execution_count": 59,
     "metadata": {},
     "output_type": "execute_result"
    }
   ],
   "source": [
    "allSpaces"
   ]
  },
  {
   "cell_type": "code",
   "execution_count": null,
   "metadata": {},
   "outputs": [],
   "source": []
  }
 ],
 "metadata": {
  "kernelspec": {
   "display_name": "Python 3",
   "language": "python",
   "name": "python3"
  },
  "language_info": {
   "codemirror_mode": {
    "name": "ipython",
    "version": 3
   },
   "file_extension": ".py",
   "mimetype": "text/x-python",
   "name": "python",
   "nbconvert_exporter": "python",
   "pygments_lexer": "ipython3",
   "version": "3.7.4"
  }
 },
 "nbformat": 4,
 "nbformat_minor": 4
}
