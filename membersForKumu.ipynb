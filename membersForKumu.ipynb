{
 "cells": [
  {
   "cell_type": "code",
   "execution_count": 39,
   "metadata": {},
   "outputs": [],
   "source": [
    "from dashboardUtils import *\n",
    "from pySheets import DictArray"
   ]
  },
  {
   "cell_type": "code",
   "execution_count": 40,
   "metadata": {},
   "outputs": [],
   "source": [
    "## normalize spacenames in both datasets\n",
    "spacesDA = DictArray(pd.read_excel('spacestmp.xls'))\n",
    "for i,space in enumerate(spacesDA):\n",
    "    spacesDA[i]['name'] = space['name'].replace('  ',' ').strip()\n",
    "    \n",
    "membersDA = DictArray(pd.read_excel('memberstmp.xls'))\n",
    "for i,member in enumerate(membersDA):\n",
    "    thisGuysSpaces = eval(member['spaces'])\n",
    "    thisGuysSpaces = [space.replace('  ',' ').strip() for space in thisGuysSpaces]\n",
    "    membersDA[i]['spaces'] = thisGuysSpaces"
   ]
  },
  {
   "cell_type": "code",
   "execution_count": 42,
   "metadata": {},
   "outputs": [
    {
     "name": "stdout",
     "output_type": "stream",
     "text": [
      "48 47\n"
     ]
    },
    {
     "data": {
      "text/plain": [
       "{'e-NABLE Web Central'}"
      ]
     },
     "execution_count": 42,
     "metadata": {},
     "output_type": "execute_result"
    }
   ],
   "source": [
    "spaceNamesFromSpacesDA = {space['name'] for space in spacesDA}\n",
    "\n",
    "spaceNamesFromMembers = set()\n",
    "for member in membersDA:\n",
    "    for space in member['spaces']:\n",
    "        spaceNamesFromMembers.add(space)\n",
    "        \n",
    "        \n",
    "#sanity check\n",
    "print(len(spaceNamesFromSpacesDA), len(spaceNamesFromMembers))\n",
    "spaceNamesFromSpacesDA.difference(spaceNamesFromMembers)\n",
    "# BUG for some reason \"e-NABLE Web Central\" is missing from spacesDA\n",
    "# good enough for now"
   ]
  },
  {
   "cell_type": "code",
   "execution_count": 51,
   "metadata": {},
   "outputs": [],
   "source": [
    "#Connections \n",
    "connections = []\n",
    "for row in membersDA:\n",
    "    label  = row['name']\n",
    "    for space in row['spaces']:\n",
    "        connections.append(OrderedDict(From=row['name'], To=space))\n",
    "        "
   ]
  },
  {
   "cell_type": "code",
   "execution_count": 53,
   "metadata": {},
   "outputs": [],
   "source": [
    "#create spaces dict\n",
    "spaceDict={}\n",
    "for row in spacesDA:\n",
    "    spaceDict[row['name']] = row['href']"
   ]
  },
  {
   "cell_type": "code",
   "execution_count": 54,
   "metadata": {},
   "outputs": [],
   "source": [
    "def spacesWithLinks(memberSpaces):\n",
    "    lines=[]\n",
    "    for name in memberSpaces:\n",
    "        lines.append(f'[{name}]({spaceDict[name]})') #markdown\n",
    "    return('\\n'.join(lines))\n",
    "\n",
    "#print(spacesWithLinks(membersDA[0]['spaces']))"
   ]
  },
  {
   "cell_type": "code",
   "execution_count": 70,
   "metadata": {},
   "outputs": [],
   "source": [
    "elements = []\n",
    "for member in membersDA:\n",
    "    Label = member['name']\n",
    "    URL =   member['href']\n",
    "    Description = spacesWithLinks(member['spaces'])\n",
    "    elements.append(OrderedDict( Label = Label, URL = URL, Description = Description, Type='Person') )"
   ]
  },
  {
   "cell_type": "code",
   "execution_count": 71,
   "metadata": {},
   "outputs": [],
   "source": [
    "#add spaces to the elements\n",
    "for space in spacesDA:\n",
    "    Label = space['name']\n",
    "    URL   = space['href']\n",
    "    elements.append(OrderedDict( Label = Label, URL=URL, Type='Space'))"
   ]
  },
  {
   "cell_type": "code",
   "execution_count": null,
   "metadata": {},
   "outputs": [],
   "source": []
  },
  {
   "cell_type": "code",
   "execution_count": 73,
   "metadata": {},
   "outputs": [],
   "source": [
    "from pySheets import get_DFB, write_DFB\n"
   ]
  },
  {
   "cell_type": "code",
   "execution_count": 74,
   "metadata": {},
   "outputs": [],
   "source": [
    "GSURL = 'https://docs.google.com/spreadsheets/d/1ks7Ge5FJh85OlS_VVMIWO1BD1ju3R3zcAOGEPxhz1m4/edit#gid=440006482'"
   ]
  },
  {
   "cell_type": "code",
   "execution_count": null,
   "metadata": {},
   "outputs": [],
   "source": []
  },
  {
   "cell_type": "code",
   "execution_count": 76,
   "metadata": {},
   "outputs": [],
   "source": [
    "DFB = OrderedDict(Elements=DataFrame(elements), Connections = DataFrame(connections))\n",
    "write_DFB(DFB, GSURL )"
   ]
  },
  {
   "cell_type": "code",
   "execution_count": null,
   "metadata": {},
   "outputs": [],
   "source": []
  }
 ],
 "metadata": {
  "kernelspec": {
   "display_name": "Python 3",
   "language": "python",
   "name": "python3"
  },
  "language_info": {
   "codemirror_mode": {
    "name": "ipython",
    "version": 3
   },
   "file_extension": ".py",
   "mimetype": "text/x-python",
   "name": "python",
   "nbconvert_exporter": "python",
   "pygments_lexer": "ipython3",
   "version": "3.7.4"
  },
  "neptune": {
   "notebookId": "5f7438fb-b42c-49d0-a68b-211fddde48e3"
  }
 },
 "nbformat": 4,
 "nbformat_minor": 4
}
